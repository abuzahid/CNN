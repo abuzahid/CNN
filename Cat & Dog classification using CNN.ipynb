{
 "cells": [
  {
   "cell_type": "code",
   "execution_count": 25,
   "metadata": {},
   "outputs": [],
   "source": [
    "from keras.models import Sequential\n",
    "from keras.layers import Conv2D\n",
    "from keras.layers import MaxPooling2D\n",
    "from keras.layers import Flatten\n",
    "from keras.layers import Dense"
   ]
  },
  {
   "cell_type": "code",
   "execution_count": 26,
   "metadata": {},
   "outputs": [],
   "source": [
    "classifier = Sequential()"
   ]
  },
  {
   "cell_type": "code",
   "execution_count": 27,
   "metadata": {},
   "outputs": [],
   "source": [
    "#Adding convolutional layer\n",
    "classifier.add(Conv2D(32,(3,3), input_shape=(64,64,3), activation='relu'))"
   ]
  },
  {
   "cell_type": "code",
   "execution_count": 28,
   "metadata": {},
   "outputs": [],
   "source": [
    "#Adding Pooling layer\n",
    "classifier.add(MaxPooling2D(pool_size=(2,2)))"
   ]
  },
  {
   "cell_type": "code",
   "execution_count": 29,
   "metadata": {},
   "outputs": [],
   "source": [
    "#Adding second convolutional layer\n",
    "classifier.add(Conv2D(32,(3,3), activation='relu'))\n",
    "classifier.add(MaxPooling2D(pool_size=(2,2)))"
   ]
  },
  {
   "cell_type": "code",
   "execution_count": 30,
   "metadata": {},
   "outputs": [],
   "source": [
    "#Flattening\n",
    "classifier.add(Flatten())"
   ]
  },
  {
   "cell_type": "code",
   "execution_count": 31,
   "metadata": {},
   "outputs": [],
   "source": [
    "#Full connection\n",
    "classifier.add(Dense(units=128,activation='relu'))\n",
    "classifier.add(Dense(units=1,activation='sigmoid'))"
   ]
  },
  {
   "cell_type": "code",
   "execution_count": 32,
   "metadata": {},
   "outputs": [],
   "source": [
    "#compilling the CNN\n",
    "classifier.compile(optimizer='adam', loss='binary_crossentropy', metrics=['accuracy'])"
   ]
  },
  {
   "cell_type": "code",
   "execution_count": 33,
   "metadata": {},
   "outputs": [],
   "source": [
    "#Fitting the CNN to the image\n",
    "from keras.preprocessing.image import ImageDataGenerator"
   ]
  },
  {
   "cell_type": "code",
   "execution_count": 34,
   "metadata": {},
   "outputs": [],
   "source": [
    "train_datagen= ImageDataGenerator(rescale=1./255,\n",
    "                                  shear_range=0.2,\n",
    "                                  zoom_range=0.2,\n",
    "                                  horizontal_flip= True\n",
    "                                 )\n",
    "test_datagen= ImageDataGenerator(rescale=1./255)"
   ]
  },
  {
   "cell_type": "code",
   "execution_count": 35,
   "metadata": {},
   "outputs": [
    {
     "name": "stdout",
     "output_type": "stream",
     "text": [
      "Found 8000 images belonging to 2 classes.\n",
      "Found 2000 images belonging to 2 classes.\n"
     ]
    }
   ],
   "source": [
    "training_set= train_datagen.flow_from_directory('dataset/training_set',\n",
    "                                                target_size= (64,64),\n",
    "                                                batch_size =32,\n",
    "                                                class_mode='binary'\n",
    "                                               )\n",
    "test_set= train_datagen.flow_from_directory('dataset/test_set',\n",
    "                                                target_size= (64,64),\n",
    "                                                batch_size =32,\n",
    "                                                class_mode='binary'\n",
    "                                               )"
   ]
  },
  {
   "cell_type": "code",
   "execution_count": 36,
   "metadata": {},
   "outputs": [
    {
     "name": "stderr",
     "output_type": "stream",
     "text": [
      "C:\\Users\\Abu Zahid\\Anaconda3\\lib\\site-packages\\ipykernel_launcher.py:5: UserWarning: The semantics of the Keras 2 argument `steps_per_epoch` is not the same as the Keras 1 argument `samples_per_epoch`. `steps_per_epoch` is the number of batches to draw from the generator at each epoch. Basically steps_per_epoch = samples_per_epoch/batch_size. Similarly `nb_val_samples`->`validation_steps` and `val_samples`->`steps` arguments have changed. Update your method calls accordingly.\n",
      "  \"\"\"\n",
      "C:\\Users\\Abu Zahid\\Anaconda3\\lib\\site-packages\\ipykernel_launcher.py:5: UserWarning: Update your `fit_generator` call to the Keras 2 API: `fit_generator(<keras_pre..., validation_data=<keras_pre..., steps_per_epoch=250, epochs=25, validation_steps=2000)`\n",
      "  \"\"\"\n"
     ]
    },
    {
     "name": "stdout",
     "output_type": "stream",
     "text": [
      "Epoch 1/25\n",
      "250/250 [==============================] - 246s 983ms/step - loss: 0.6763 - acc: 0.5730 - val_loss: 0.6376 - val_acc: 0.6488\n",
      "Epoch 2/25\n",
      "250/250 [==============================] - 243s 974ms/step - loss: 0.6292 - acc: 0.6544 - val_loss: 0.6013 - val_acc: 0.6864\n",
      "Epoch 3/25\n",
      "250/250 [==============================] - 244s 975ms/step - loss: 0.5829 - acc: 0.6976 - val_loss: 0.5741 - val_acc: 0.7010\n",
      "Epoch 4/25\n",
      "250/250 [==============================] - 244s 975ms/step - loss: 0.5483 - acc: 0.7214 - val_loss: 0.5309 - val_acc: 0.7404\n",
      "Epoch 5/25\n",
      "250/250 [==============================] - 244s 977ms/step - loss: 0.5222 - acc: 0.7389 - val_loss: 0.5406 - val_acc: 0.7311\n",
      "Epoch 6/25\n",
      "250/250 [==============================] - 244s 977ms/step - loss: 0.4976 - acc: 0.7543 - val_loss: 0.5619 - val_acc: 0.7194\n",
      "Epoch 7/25\n",
      "250/250 [==============================] - 245s 980ms/step - loss: 0.4820 - acc: 0.7704 - val_loss: 0.5332 - val_acc: 0.7427\n",
      "Epoch 8/25\n",
      "250/250 [==============================] - 245s 979ms/step - loss: 0.4671 - acc: 0.7824 - val_loss: 0.4928 - val_acc: 0.7681\n",
      "Epoch 9/25\n",
      "250/250 [==============================] - 245s 981ms/step - loss: 0.4512 - acc: 0.7906 - val_loss: 0.4918 - val_acc: 0.7706\n",
      "Epoch 10/25\n",
      "250/250 [==============================] - 256s 1s/step - loss: 0.4344 - acc: 0.7957 - val_loss: 0.4861 - val_acc: 0.7730\n",
      "Epoch 11/25\n",
      "250/250 [==============================] - 246s 983ms/step - loss: 0.4295 - acc: 0.8024 - val_loss: 0.4938 - val_acc: 0.7698\n",
      "Epoch 12/25\n",
      "250/250 [==============================] - 246s 985ms/step - loss: 0.4177 - acc: 0.8060 - val_loss: 0.5059 - val_acc: 0.7625\n",
      "Epoch 13/25\n",
      "250/250 [==============================] - 247s 987ms/step - loss: 0.4047 - acc: 0.8154 - val_loss: 0.5362 - val_acc: 0.7545\n",
      "Epoch 14/25\n",
      "250/250 [==============================] - 246s 984ms/step - loss: 0.3953 - acc: 0.8191 - val_loss: 0.4964 - val_acc: 0.7673\n",
      "Epoch 15/25\n",
      "250/250 [==============================] - 246s 986ms/step - loss: 0.3844 - acc: 0.8250 - val_loss: 0.4703 - val_acc: 0.7899\n",
      "Epoch 16/25\n",
      "250/250 [==============================] - 244s 977ms/step - loss: 0.3619 - acc: 0.8364 - val_loss: 0.4961 - val_acc: 0.7926\n",
      "Epoch 17/25\n",
      "250/250 [==============================] - 245s 981ms/step - loss: 0.3578 - acc: 0.8409 - val_loss: 0.4569 - val_acc: 0.8013\n",
      "Epoch 18/25\n",
      "250/250 [==============================] - 245s 979ms/step - loss: 0.3482 - acc: 0.8430 - val_loss: 0.4763 - val_acc: 0.7946\n",
      "Epoch 19/25\n",
      "250/250 [==============================] - 247s 986ms/step - loss: 0.3466 - acc: 0.8425 - val_loss: 0.4781 - val_acc: 0.7907\n",
      "Epoch 20/25\n",
      "250/250 [==============================] - 246s 982ms/step - loss: 0.3186 - acc: 0.8596 - val_loss: 0.4723 - val_acc: 0.7986\n",
      "Epoch 21/25\n",
      "250/250 [==============================] - 246s 985ms/step - loss: 0.3129 - acc: 0.8604 - val_loss: 0.4957 - val_acc: 0.7903\n",
      "Epoch 22/25\n",
      "250/250 [==============================] - 246s 985ms/step - loss: 0.2924 - acc: 0.8733 - val_loss: 0.5024 - val_acc: 0.7946\n",
      "Epoch 23/25\n",
      "250/250 [==============================] - 246s 984ms/step - loss: 0.2900 - acc: 0.8754 - val_loss: 0.5382 - val_acc: 0.7898\n",
      "Epoch 24/25\n",
      "250/250 [==============================] - 246s 985ms/step - loss: 0.2738 - acc: 0.8884 - val_loss: 0.4826 - val_acc: 0.8041\n",
      "Epoch 25/25\n",
      "250/250 [==============================] - 247s 986ms/step - loss: 0.2614 - acc: 0.8880 - val_loss: 0.4940 - val_acc: 0.8000\n"
     ]
    },
    {
     "data": {
      "text/plain": [
       "<keras.callbacks.History at 0xffcfe44c50>"
      ]
     },
     "execution_count": 36,
     "metadata": {},
     "output_type": "execute_result"
    }
   ],
   "source": [
    "classifier.fit_generator(training_set,\n",
    "                         samples_per_epoch=8000,\n",
    "                         nb_epoch=25,\n",
    "                         validation_data=test_set,\n",
    "                         nb_val_samples=2000\n",
    "                        )"
   ]
  },
  {
   "cell_type": "code",
   "execution_count": null,
   "metadata": {},
   "outputs": [],
   "source": []
  },
  {
   "cell_type": "code",
   "execution_count": null,
   "metadata": {},
   "outputs": [],
   "source": []
  },
  {
   "cell_type": "code",
   "execution_count": null,
   "metadata": {},
   "outputs": [],
   "source": []
  }
 ],
 "metadata": {
  "kernelspec": {
   "display_name": "Python 3",
   "language": "python",
   "name": "python3"
  },
  "language_info": {
   "codemirror_mode": {
    "name": "ipython",
    "version": 3
   },
   "file_extension": ".py",
   "mimetype": "text/x-python",
   "name": "python",
   "nbconvert_exporter": "python",
   "pygments_lexer": "ipython3",
   "version": "3.7.3"
  }
 },
 "nbformat": 4,
 "nbformat_minor": 2
}
